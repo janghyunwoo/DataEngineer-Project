{
 "cells": [
  {
   "cell_type": "markdown",
   "metadata": {},
   "source": [
    "# 데이터 전송\n",
    "\n",
    "데이터가 json 형태로 전송되고있다고 가정 (01_data_making 에서 진행)\n",
    "\n",
    "스트리밍으로 전송된 데이터는 Kinesis 스트림에서 그리고 kinesis 파이어호스로 전송\n",
    "\n",
    "파이어호스에서 json형식을 parquet형식으로 변환 후 s3에 저장한다."
   ]
  },
  {
   "cell_type": "markdown",
   "metadata": {},
   "source": [
    "# 키네시스 스트림 생성 및 삭제"
   ]
  },
  {
   "cell_type": "code",
   "execution_count": 2,
   "metadata": {},
   "outputs": [],
   "source": [
    "import threading, sys, pandas, json, time\n",
    "from boto import kinesis\n",
    "\n",
    "sys.path.append(\"../lib\") # 기준은 현재 커서의 위치\n",
    "import sample_kinesis_wordputter as kinesis_kustom # kinesis stream 관련 오픈소스 코드\n",
    "\n",
    "# 키네시스 이름\n",
    "stream_name = 'datastream_1'\n",
    "# 지역 설정\n",
    "conn = kinesis.connect_to_region(region_name = 'ap-northeast-2')\n",
    "\n",
    "def put_rows_in_kinesis(w): # w : 전송할 json형 데이터\n",
    "    try: \n",
    "        conn.put_record(stream_name, w,\"partitionkey\") # 3번째 매개변수를 이것처럼 수정해야됨.#\n",
    "        print(\"전송한 데이터: \" + stream_name)\n",
    "    except Exception as e:\n",
    "        sys.stderr.write(\"예외: \"\n",
    "                         + w + \" Stream 이름: \" + stream_name + \" 원인: \" + str(e))\n",
    "\n",
    "# 키네시스 스트림 생성.\n",
    "def start_kinesis():\n",
    "    try:\n",
    "        status = kinesis_kustom.get_stream_status(conn, stream_name)\n",
    "        if 'DELETING' == status:\n",
    "            print('Stream 이름 {s} 은 삭제 중..'.format(s=stream_name))\n",
    "            sys.exit(1)\n",
    "        elif 'ACTIVE' != status:\n",
    "            kinesis_kustom.wait_for_stream(conn, stream_name)\n",
    "    except:\n",
    "        conn.create_stream(stream_name, 1)\n",
    "        kinesis_kustom.wait_for_stream(conn, stream_name)\n",
    "\n",
    "start_kinesis() "
   ]
  },
  {
   "cell_type": "code",
   "execution_count": 50,
   "metadata": {
    "ExecuteTime": {
     "end_time": "2022-07-11T11:00:35.036499Z",
     "start_time": "2022-07-11T11:00:34.269251Z"
    }
   },
   "outputs": [
    {
     "name": "stdout",
     "output_type": "stream",
     "text": [
      "\r\n",
      "An error occurred (ResourceInUseException) when calling the CreateStream operation: Stream datastream_1 under account 848045215644 already exists.\r\n"
     ]
    }
   ],
   "source": [
    "# 아래 코드로도 간단하게 kinesis 생성 가능\n",
    "!aws kinesis create-stream --stream-name=datastream_1 --shard-count=1"
   ]
  },
  {
   "cell_type": "code",
   "execution_count": 1,
   "metadata": {
    "ExecuteTime": {
     "end_time": "2022-07-11T11:51:13.293665Z",
     "start_time": "2022-07-11T11:51:12.584378Z"
    }
   },
   "outputs": [
    {
     "name": "stdout",
     "output_type": "stream",
     "text": [
      "\r\n",
      "An error occurred (ResourceNotFoundException) when calling the DeleteStream operation: Stream datastream_1 under account 848045215644 not found.\r\n"
     ]
    }
   ],
   "source": [
    "!aws kinesis delete-stream --stream-name datastream_1"
   ]
  },
  {
   "cell_type": "markdown",
   "metadata": {},
   "source": [
    "# 파이어호스 생성 및 삭제"
   ]
  },
  {
   "cell_type": "code",
   "execution_count": 64,
   "metadata": {
    "ExecuteTime": {
     "end_time": "2022-07-11T11:17:58.931696Z",
     "start_time": "2022-07-11T11:17:58.128419Z"
    }
   },
   "outputs": [
    {
     "name": "stdout",
     "output_type": "stream",
     "text": [
      "{\r\n",
      "    \"DeliveryStreamARN\": \"arn:aws:firehose:ap-northeast-2:848045215644:deliverystream/test_jang\"\r\n",
      "}\r\n"
     ]
    }
   ],
   "source": [
    "# https://github.com/aws/aws-cli/issues/2528 참고한 사이트\n",
    "!aws firehose create-delivery-stream --region=ap-northeast-2 --cli-input-json file://../data/firehose_cli_parameter.json"
   ]
  },
  {
   "cell_type": "code",
   "execution_count": 65,
   "metadata": {
    "ExecuteTime": {
     "end_time": "2022-07-11T11:46:23.343022Z",
     "start_time": "2022-07-11T11:46:22.575395Z"
    }
   },
   "outputs": [],
   "source": [
    "!aws firehose delete-delivery-stream --region=ap-northeast-2 --delivery-stream-name test_jang"
   ]
  },
  {
   "cell_type": "markdown",
   "metadata": {},
   "source": [
    "# 전송 할 데이터 읽기\n"
   ]
  },
  {
   "cell_type": "code",
   "execution_count": 3,
   "metadata": {},
   "outputs": [
    {
     "name": "stdout",
     "output_type": "stream",
     "text": [
      "진행도: 200000\n"
     ]
    }
   ],
   "source": [
    "# utils는 json 또는 jsonl 파일을 읽고 쓰는 유틸리티 함수\n",
    "sys.path.append(\"../lib\")\n",
    "import utils\n",
    "\n",
    "rawdata_type_jsonl = utils.read_json_lines_file(\"../data/Raw_Data.jsonl\")"
   ]
  },
  {
   "cell_type": "markdown",
   "metadata": {},
   "source": [
    "# 데이터 키네시스 스트림으로 전송"
   ]
  },
  {
   "cell_type": "code",
   "execution_count": 10,
   "metadata": {
    "collapsed": true
   },
   "outputs": [
    {
     "name": "stdout",
     "output_type": "stream",
     "text": [
      "전송한 데이터: datastream_1\n",
      "{'Year': '2015', 'Quarter': '1', 'Month': '1', 'DayofMonth': '1', 'DayOfWeek': '4', 'FlightDate': '2015-01-01', 'Carrier': 'AA', 'TailNum': 'N001AA', 'FlightNum': '1519', 'Origin': 'DFW', 'OriginCityName': 'Dallas/Fort Worth, TX', 'OriginState': 'TX', 'Dest': 'MEM', 'DestCityName': 'Memphis, TN', 'DestState': 'TN', 'DepTime': '1342', 'DepDelay': -3.0, 'DepDelayMinutes': 0, 'TaxiOut': 16.0, 'TaxiIn': 7.0, 'WheelsOff': '1358', 'WheelsOn': '1457', 'ArrTime': '1504', 'ArrDelay': -6.0, 'ArrDelayMinutes': 0.0, 'Cancelled': 0, 'Diverted': 0, 'ActualElapsedTime': 82.0, 'AirTime': 59.0, 'Flights': 1, 'Distance': 432.0, 'CRSDepTime': '1345', 'CRSArrTime': '1510'} \n",
      "\n",
      "전송한 데이터: datastream_1\n",
      "{'Year': '2015', 'Quarter': '1', 'Month': '1', 'DayofMonth': '1', 'DayOfWeek': '4', 'FlightDate': '2015-01-01', 'Carrier': 'AA', 'TailNum': 'N001AA', 'FlightNum': '1519', 'Origin': 'MEM', 'OriginCityName': 'Memphis, TN', 'OriginState': 'TN', 'Dest': 'DFW', 'DestCityName': 'Dallas/Fort Worth, TX', 'DestState': 'TX', 'DepTime': '1546', 'DepDelay': -4.0, 'DepDelayMinutes': 0, 'TaxiOut': 9.0, 'TaxiIn': 9.0, 'WheelsOff': '1555', 'WheelsOn': '1712', 'ArrTime': '1721', 'ArrDelay': -9.0, 'ArrDelayMinutes': 0.0, 'Cancelled': 0, 'Diverted': 0, 'ActualElapsedTime': 95.0, 'AirTime': 77.0, 'Flights': 1, 'Distance': 432.0, 'CRSDepTime': '1550', 'CRSArrTime': '1730'} \n",
      "\n",
      "전송한 데이터: datastream_1\n",
      "{'Year': '2015', 'Quarter': '1', 'Month': '1', 'DayofMonth': '1', 'DayOfWeek': '4', 'FlightDate': '2015-01-01', 'Carrier': 'AA', 'TailNum': 'N002AA', 'FlightNum': '2349', 'Origin': 'ORD', 'OriginCityName': 'Chicago, IL', 'OriginState': 'IL', 'Dest': 'DFW', 'DestCityName': 'Dallas/Fort Worth, TX', 'DestState': 'TX', 'DepTime': '1845', 'DepDelay': 0.0, 'DepDelayMinutes': 0, 'TaxiOut': 31.0, 'TaxiIn': 16.0, 'WheelsOff': '1916', 'WheelsOn': '2125', 'ArrTime': '2141', 'ArrDelay': 26.0, 'ArrDelayMinutes': 26.0, 'Cancelled': 0, 'Diverted': 0, 'ActualElapsedTime': 176.0, 'AirTime': 129.0, 'Flights': 1, 'Distance': 802.0, 'CarrierDelay': 0.0, 'WeatherDelay': 0.0, 'NASDelay': 26.0, 'SecurityDelay': 0.0, 'LateAircraftDelay': 0.0, 'CRSDepTime': '1845', 'CRSArrTime': '2115'} \n",
      "\n",
      "전송한 데이터: datastream_1\n",
      "{'Year': '2015', 'Quarter': '1', 'Month': '1', 'DayofMonth': '1', 'DayOfWeek': '4', 'FlightDate': '2015-01-01', 'Carrier': 'AA', 'TailNum': 'N003AA', 'FlightNum': '1298', 'Origin': 'DFW', 'OriginCityName': 'Dallas/Fort Worth, TX', 'OriginState': 'TX', 'Dest': 'ATL', 'DestCityName': 'Atlanta, GA', 'DestState': 'GA', 'DepTime': '2000', 'DepDelay': 100.0, 'DepDelayMinutes': 100, 'TaxiOut': 33.0, 'TaxiIn': 6.0, 'WheelsOff': '2033', 'WheelsOn': '2306', 'ArrTime': '2312', 'ArrDelay': 112.0, 'ArrDelayMinutes': 112.0, 'Cancelled': 0, 'Diverted': 0, 'ActualElapsedTime': 132.0, 'AirTime': 93.0, 'Flights': 1, 'Distance': 731.0, 'CarrierDelay': 19.0, 'WeatherDelay': 0.0, 'NASDelay': 12.0, 'SecurityDelay': 0.0, 'LateAircraftDelay': 81.0, 'CRSDepTime': '1820', 'CRSArrTime': '2120'} \n",
      "\n",
      "전송한 데이터: datastream_1\n",
      "{'Year': '2015', 'Quarter': '1', 'Month': '1', 'DayofMonth': '1', 'DayOfWeek': '4', 'FlightDate': '2015-01-01', 'Carrier': 'AA', 'TailNum': 'N003AA', 'FlightNum': '1422', 'Origin': 'DFW', 'OriginCityName': 'Dallas/Fort Worth, TX', 'OriginState': 'TX', 'Dest': 'HDN', 'DestCityName': 'Hayden, CO', 'DestState': 'CO', 'DepTime': '0918', 'DepDelay': 78.0, 'DepDelayMinutes': 78, 'TaxiOut': 30.0, 'TaxiIn': 4.0, 'WheelsOff': '0948', 'WheelsOn': '1039', 'ArrTime': '1043', 'ArrDelay': 78.0, 'ArrDelayMinutes': 78.0, 'Cancelled': 0, 'Diverted': 0, 'ActualElapsedTime': 145.0, 'AirTime': 111.0, 'Flights': 1, 'Distance': 769.0, 'CarrierDelay': 78.0, 'WeatherDelay': 0.0, 'NASDelay': 0.0, 'SecurityDelay': 0.0, 'LateAircraftDelay': 0.0, 'CRSDepTime': '0800', 'CRSArrTime': '0925'} \n",
      "\n",
      "전송한 데이터: datastream_1\n",
      "{'Year': '2015', 'Quarter': '1', 'Month': '1', 'DayofMonth': '1', 'DayOfWeek': '4', 'FlightDate': '2015-01-01', 'Carrier': 'AA', 'TailNum': 'N003AA', 'FlightNum': '1422', 'Origin': 'HDN', 'OriginCityName': 'Hayden, CO', 'OriginState': 'CO', 'Dest': 'DFW', 'DestCityName': 'Dallas/Fort Worth, TX', 'DestState': 'TX', 'DepTime': '1537', 'DepDelay': 332.0, 'DepDelayMinutes': 332, 'TaxiOut': 16.0, 'TaxiIn': 15.0, 'WheelsOff': '1553', 'WheelsOn': '1841', 'ArrTime': '1856', 'ArrDelay': 336.0, 'ArrDelayMinutes': 336.0, 'Cancelled': 0, 'Diverted': 0, 'ActualElapsedTime': 139.0, 'AirTime': 108.0, 'Flights': 1, 'Distance': 769.0, 'CarrierDelay': 254.0, 'WeatherDelay': 0.0, 'NASDelay': 4.0, 'SecurityDelay': 0.0, 'LateAircraftDelay': 78.0, 'CRSDepTime': '1005', 'CRSArrTime': '1320'} \n",
      "\n",
      "전송한 데이터: datastream_1\n",
      "{'Year': '2015', 'Quarter': '1', 'Month': '1', 'DayofMonth': '1', 'DayOfWeek': '4', 'FlightDate': '2015-01-01', 'Carrier': 'AA', 'TailNum': 'N004AA', 'FlightNum': '2287', 'Origin': 'JAC', 'OriginCityName': 'Jackson, WY', 'OriginState': 'WY', 'Dest': 'DFW', 'DestCityName': 'Dallas/Fort Worth, TX', 'DestState': 'TX', 'DepTime': '0756', 'DepDelay': -4.0, 'DepDelayMinutes': 0, 'TaxiOut': 49.0, 'TaxiIn': 10.0, 'WheelsOff': '0845', 'WheelsOn': '1211', 'ArrTime': '1221', 'ArrDelay': 21.0, 'ArrDelayMinutes': 21.0, 'Cancelled': 0, 'Diverted': 0, 'ActualElapsedTime': 205.0, 'AirTime': 146.0, 'Flights': 1, 'Distance': 1047.0, 'CarrierDelay': 0.0, 'WeatherDelay': 0.0, 'NASDelay': 21.0, 'SecurityDelay': 0.0, 'LateAircraftDelay': 0.0, 'CRSDepTime': '0800', 'CRSArrTime': '1200'} \n",
      "\n",
      "전송한 데이터: datastream_1\n",
      "{'Year': '2015', 'Quarter': '1', 'Month': '1', 'DayofMonth': '1', 'DayOfWeek': '4', 'FlightDate': '2015-01-01', 'Carrier': 'AA', 'TailNum': 'N005AA', 'FlightNum': '1080', 'Origin': 'EGE', 'OriginCityName': 'Eagle, CO', 'OriginState': 'CO', 'Dest': 'ORD', 'DestCityName': 'Chicago, IL', 'DestState': 'IL', 'Cancelled': 1, 'Diverted': 0, 'Flights': 1, 'Distance': 1007.0, 'CRSDepTime': '1415', 'CRSArrTime': '1755'} \n",
      "\n",
      "전송한 데이터: datastream_1\n",
      "{'Year': '2015', 'Quarter': '1', 'Month': '1', 'DayofMonth': '1', 'DayOfWeek': '4', 'FlightDate': '2015-01-01', 'Carrier': 'AA', 'TailNum': 'N005AA', 'FlightNum': '1080', 'Origin': 'ORD', 'OriginCityName': 'Chicago, IL', 'OriginState': 'IL', 'Dest': 'EGE', 'DestCityName': 'Eagle, CO', 'DestState': 'CO', 'Cancelled': 1, 'Diverted': 0, 'Flights': 1, 'Distance': 1007.0, 'CRSDepTime': '1145', 'CRSArrTime': '1335'} \n",
      "\n",
      "전송한 데이터: datastream_1\n",
      "{'Year': '2015', 'Quarter': '1', 'Month': '1', 'DayofMonth': '1', 'DayOfWeek': '4', 'FlightDate': '2015-01-01', 'Carrier': 'AA', 'TailNum': 'N005AA', 'FlightNum': '2332', 'Origin': 'DFW', 'OriginCityName': 'Dallas/Fort Worth, TX', 'OriginState': 'TX', 'Dest': 'ORD', 'DestCityName': 'Chicago, IL', 'DestState': 'IL', 'Cancelled': 1, 'Diverted': 0, 'Flights': 1, 'Distance': 802.0, 'CRSDepTime': '0740', 'CRSArrTime': '0955'} \n",
      "\n",
      "전송한 데이터: datastream_1\n",
      "{'Year': '2015', 'Quarter': '1', 'Month': '1', 'DayofMonth': '1', 'DayOfWeek': '4', 'FlightDate': '2015-01-01', 'Carrier': 'AA', 'TailNum': 'N006AA', 'FlightNum': '194', 'Origin': 'DFW', 'OriginCityName': 'Dallas/Fort Worth, TX', 'OriginState': 'TX', 'Dest': 'ATL', 'DestCityName': 'Atlanta, GA', 'DestState': 'GA', 'Cancelled': 1, 'Diverted': 0, 'Flights': 1, 'Distance': 731.0, 'CRSDepTime': '1150', 'CRSArrTime': '1445'} \n",
      "\n"
     ]
    }
   ],
   "source": [
    "# 키네시스로 데이터 전송(10개만..)\n",
    "break_num = 1\n",
    "for n in rawdata_type_jsonl:    \n",
    "    put_rows_in_kinesis(json.dumps(n))\n",
    "\n",
    "    print(n,'\\n')\n",
    "    if break_num > 10:\n",
    "        break\n",
    "    break_num+=1\n",
    "    \n",
    "    time.sleep(1)"
   ]
  },
  {
   "cell_type": "markdown",
   "metadata": {},
   "source": [
    "# 키네시스 스트림에 전송된 데이터 확인"
   ]
  },
  {
   "cell_type": "code",
   "execution_count": 5,
   "metadata": {
    "collapsed": true
   },
   "outputs": [
    {
     "name": "stdout",
     "output_type": "stream",
     "text": [
      "[]\n",
      "[]\n",
      "[]\n",
      "[]\n",
      "[]\n",
      "[]\n",
      "[]\n",
      "[]\n",
      "[]\n",
      "[]\n",
      "[]\n",
      "[]\n",
      "[]\n",
      "[]\n",
      "[]\n",
      "[]\n",
      "[]\n",
      "[]\n",
      "[]\n",
      "[]\n"
     ]
    },
    {
     "ename": "KeyboardInterrupt",
     "evalue": "",
     "output_type": "error",
     "traceback": [
      "\u001b[0;31m---------------------------------------------------------------------------\u001b[0m",
      "\u001b[0;31mKeyboardInterrupt\u001b[0m                         Traceback (most recent call last)",
      "\u001b[0;32m<ipython-input-5-f1c33f8a5b2b>\u001b[0m in \u001b[0;36m<module>\u001b[0;34m\u001b[0m\n\u001b[1;32m     11\u001b[0m     \u001b[0mprint\u001b[0m\u001b[0;34m(\u001b[0m\u001b[0mout\u001b[0m\u001b[0;34m[\u001b[0m\u001b[0;34m'Records'\u001b[0m\u001b[0;34m]\u001b[0m\u001b[0;34m)\u001b[0m\u001b[0;34m\u001b[0m\u001b[0;34m\u001b[0m\u001b[0m\n\u001b[1;32m     12\u001b[0m     \u001b[0mshard_it\u001b[0m \u001b[0;34m=\u001b[0m \u001b[0mout\u001b[0m\u001b[0;34m[\u001b[0m\u001b[0;34m'NextShardIterator'\u001b[0m\u001b[0;34m]\u001b[0m\u001b[0;34m\u001b[0m\u001b[0;34m\u001b[0m\u001b[0m\n\u001b[0;32m---> 13\u001b[0;31m     \u001b[0mtime\u001b[0m\u001b[0;34m.\u001b[0m\u001b[0msleep\u001b[0m\u001b[0;34m(\u001b[0m\u001b[0;36m5\u001b[0m\u001b[0;34m)\u001b[0m\u001b[0;34m\u001b[0m\u001b[0;34m\u001b[0m\u001b[0m\n\u001b[0m",
      "\u001b[0;31mKeyboardInterrupt\u001b[0m: "
     ]
    }
   ],
   "source": [
    "# 키네시스 스트림에 데이터가 전송 되었는지 확인 (python3 콘솔에 복붙해서 실행)\n",
    "import json\n",
    "from boto import kinesis\n",
    "import time\n",
    "\n",
    "kinesis = kinesis.connect_to_region('ap-northeast-2')\n",
    "shard_it = kinesis.get_shard_iterator('datastream_1', 'shardId-000000000000', 'LATEST')['ShardIterator']\n",
    "\n",
    "while True:\n",
    "    out = kinesis.get_records(shard_it, limit=2)\n",
    "    print(out['Records'])\n",
    "    shard_it = out['NextShardIterator']\n",
    "    time.sleep(5)"
   ]
  },
  {
   "cell_type": "markdown",
   "metadata": {},
   "source": [
    "# s3에 저장된 데이터 확인\n",
    "\n",
    "우선 키네시스 파이어호스를 생성해야 된다. \n",
    "\n",
    "생성은 웹 UI로 했다."
   ]
  },
  {
   "cell_type": "code",
   "execution_count": 11,
   "metadata": {},
   "outputs": [
    {
     "name": "stdout",
     "output_type": "stream",
     "text": [
      "Completed 6.2 KiB/6.2 KiB (121.7 KiB/s) with 1 file(s) remaining\r",
      "download: s3://jhw620/2022/07/11/08/KDS-S3-0PXzw-2-2022-07-11-08-22-06-2dfea19f-9798-46a4-b2d1-1624eee5452f.parquet to ../data/KDS-S3-0PXzw-2-2022-07-11-08-22-06-2dfea19f-9798-46a4-b2d1-1624eee5452f.parquet\r\n"
     ]
    }
   ],
   "source": [
    "# s3에서 firehose를 통해 parquet로 저장된 데이터 가져오기\n",
    "#!aws s3 cp s3://jhw620/2019/07/11/02 ../data/ --recursive\n",
    "!aws s3 cp s3://jhw620/2022/07/11/08/ ../data/ --recursive"
   ]
  },
  {
   "cell_type": "code",
   "execution_count": 8,
   "metadata": {
    "collapsed": true
   },
   "outputs": [
    {
     "name": "stdout",
     "output_type": "stream",
     "text": [
      "+----+-------+-----+----------+---------+----------+-------+-------+---------+------+--------------------+-----------+----+--------------------+---------+-------+--------+---------------+-------+------+---------+--------+-------+--------+---------------+---------+--------+-----------------+-------+-------+--------+----------+----------+------------+------------+--------+-------------+-----------------+\n",
      "|year|quarter|month|dayofmonth|dayofweek|flightdate|carrier|tailnum|flightnum|origin|      origincityname|originstate|dest|        destcityname|deststate|deptime|depdelay|depdelayminutes|taxiout|taxiin|wheelsoff|wheelson|arrtime|arrdelay|arrdelayminutes|cancelled|diverted|actualelapsedtime|airtime|flights|distance|crsdeptime|crsarrtime|carrierdelay|weatherdelay|nasdelay|securitydelay|lateaircraftdelay|\n",
      "+----+-------+-----+----------+---------+----------+-------+-------+---------+------+--------------------+-----------+----+--------------------+---------+-------+--------+---------------+-------+------+---------+--------+-------+--------+---------------+---------+--------+-----------------+-------+-------+--------+----------+----------+------------+------------+--------+-------------+-----------------+\n",
      "|2015|      1|    1|         1|        4|2015-01-01|     AA| N001AA|     1519|   DFW|Dallas/Fort Worth...|         TX| MEM|         Memphis, TN|       TN|   1342|    -3.0|              0|   16.0|   7.0|     1358|    1457|   1504|    -6.0|            0.0|        0|       0|             82.0|   59.0|      1|   432.0|      1345|      1510|        null|        null|    null|         null|             null|\n",
      "|2015|      1|    1|         1|        4|2015-01-01|     AA| N001AA|     1519|   MEM|         Memphis, TN|         TN| DFW|Dallas/Fort Worth...|       TX|   1546|    -4.0|              0|    9.0|   9.0|     1555|    1712|   1721|    -9.0|            0.0|        0|       0|             95.0|   77.0|      1|   432.0|      1550|      1730|        null|        null|    null|         null|             null|\n",
      "|2015|      1|    1|         1|        4|2015-01-01|     AA| N002AA|     2349|   ORD|         Chicago, IL|         IL| DFW|Dallas/Fort Worth...|       TX|   1845|     0.0|              0|   31.0|  16.0|     1916|    2125|   2141|    26.0|           26.0|        0|       0|            176.0|  129.0|      1|   802.0|      1845|      2115|         0.0|         0.0|    26.0|          0.0|              0.0|\n",
      "+----+-------+-----+----------+---------+----------+-------+-------+---------+------+--------------------+-----------+----+--------------------+---------+-------+--------+---------------+-------+------+---------+--------+-------+--------+---------------+---------+--------+-----------------+-------+-------+--------+----------+----------+------------+------------+--------+-------------+-----------------+\n",
      "only showing top 3 rows\n",
      "\n"
     ]
    }
   ],
   "source": [
    "# 옛날 꺼\n",
    "try:\n",
    "  sc and spark\n",
    "except NameError as e:\n",
    "  import findspark\n",
    "  findspark.init()\n",
    "  import pyspark\n",
    "  import pyspark.sql\n",
    "\n",
    "  sc = pyspark.SparkContext()\n",
    "  spark = pyspark.sql.SparkSession(sc).builder.getOrCreate()\n",
    "\n",
    "# 저장된 파퀘이 데이터를 읽어온다.\n",
    "on_time_dataframe = spark.read.parquet('../data/firehose_stream-1-2019-07-11-02-10-46-4139e534-1f12-4fe3-8f55-c9b9df8a31ec.parquet')\n",
    "on_time_dataframe.show(3)\n"
   ]
  },
  {
   "cell_type": "code",
   "execution_count": 1,
   "metadata": {
    "ExecuteTime": {
     "end_time": "2022-07-11T09:07:16.981967Z",
     "start_time": "2022-07-11T09:07:06.621254Z"
    },
    "collapsed": true
   },
   "outputs": [
    {
     "name": "stdout",
     "output_type": "stream",
     "text": [
      "+----+-------+-----+----------+---------+----------+-------+-------+---------+------+--------------------+-----------+----+--------------------+---------+-------+--------+---------------+-------+------+---------+--------+-------+--------+---------------+---------+--------+-----------------+-------+-------+--------+----------+----------+------------+------------+--------+-------------+-----------------+\n",
      "|year|quarter|month|dayofmonth|dayofweek|flightdate|carrier|tailnum|flightnum|origin|      origincityname|originstate|dest|        destcityname|deststate|deptime|depdelay|depdelayminutes|taxiout|taxiin|wheelsoff|wheelson|arrtime|arrdelay|arrdelayminutes|cancelled|diverted|actualelapsedtime|airtime|flights|distance|crsdeptime|crsarrtime|carrierdelay|weatherdelay|nasdelay|securitydelay|lateaircraftdelay|\n",
      "+----+-------+-----+----------+---------+----------+-------+-------+---------+------+--------------------+-----------+----+--------------------+---------+-------+--------+---------------+-------+------+---------+--------+-------+--------+---------------+---------+--------+-----------------+-------+-------+--------+----------+----------+------------+------------+--------+-------------+-----------------+\n",
      "|2015|      1|    1|         1|        4|2015-01-01|     AA| N001AA|     1519|   DFW|Dallas/Fort Worth...|         TX| MEM|         Memphis, TN|       TN|   1342|    -3.0|              0|   16.0|   7.0|     1358|    1457|   1504|    -6.0|            0.0|        0|       0|             82.0|   59.0|      1|   432.0|      1345|      1510|        null|        null|    null|         null|             null|\n",
      "|2015|      1|    1|         1|        4|2015-01-01|     AA| N001AA|     1519|   MEM|         Memphis, TN|         TN| DFW|Dallas/Fort Worth...|       TX|   1546|    -4.0|              0|    9.0|   9.0|     1555|    1712|   1721|    -9.0|            0.0|        0|       0|             95.0|   77.0|      1|   432.0|      1550|      1730|        null|        null|    null|         null|             null|\n",
      "|2015|      1|    1|         1|        4|2015-01-01|     AA| N002AA|     2349|   ORD|         Chicago, IL|         IL| DFW|Dallas/Fort Worth...|       TX|   1845|     0.0|              0|   31.0|  16.0|     1916|    2125|   2141|    26.0|           26.0|        0|       0|            176.0|  129.0|      1|   802.0|      1845|      2115|         0.0|         0.0|    26.0|          0.0|              0.0|\n",
      "+----+-------+-----+----------+---------+----------+-------+-------+---------+------+--------------------+-----------+----+--------------------+---------+-------+--------+---------------+-------+------+---------+--------+-------+--------+---------------+---------+--------+-----------------+-------+-------+--------+----------+----------+------------+------------+--------+-------------+-----------------+\n",
      "only showing top 3 rows\n",
      "\n"
     ]
    }
   ],
   "source": [
    "# 최근(220711) 에 실행한거\n",
    "try:\n",
    "  sc and spark\n",
    "except NameError as e:\n",
    "  import findspark\n",
    "  findspark.init()\n",
    "  import pyspark\n",
    "  import pyspark.sql\n",
    "\n",
    "  sc = pyspark.SparkContext()\n",
    "  spark = pyspark.sql.SparkSession(sc).builder.getOrCreate()\n",
    "\n",
    "# 저장된 파퀘이 데이터를 읽어온다.\n",
    "on_time_dataframe = spark.read.parquet('../data/KDS-S3-0PXzw-2-2022-07-11-08-22-06-2dfea19f-9798-46a4-b2d1-1624eee5452f.parquet')\n",
    "on_time_dataframe.show(3)\n"
   ]
  },
  {
   "cell_type": "code",
   "execution_count": 2,
   "metadata": {
    "ExecuteTime": {
     "end_time": "2022-07-11T09:07:45.237806Z",
     "start_time": "2022-07-11T09:07:44.620235Z"
    },
    "scrolled": true
   },
   "outputs": [
    {
     "data": {
      "text/html": [
       "<div>\n",
       "<style scoped>\n",
       "    .dataframe tbody tr th:only-of-type {\n",
       "        vertical-align: middle;\n",
       "    }\n",
       "\n",
       "    .dataframe tbody tr th {\n",
       "        vertical-align: top;\n",
       "    }\n",
       "\n",
       "    .dataframe thead th {\n",
       "        text-align: right;\n",
       "    }\n",
       "</style>\n",
       "<table border=\"1\" class=\"dataframe\">\n",
       "  <thead>\n",
       "    <tr style=\"text-align: right;\">\n",
       "      <th></th>\n",
       "      <th>year</th>\n",
       "      <th>quarter</th>\n",
       "      <th>month</th>\n",
       "      <th>dayofmonth</th>\n",
       "      <th>dayofweek</th>\n",
       "      <th>flightdate</th>\n",
       "      <th>carrier</th>\n",
       "      <th>tailnum</th>\n",
       "      <th>flightnum</th>\n",
       "      <th>origin</th>\n",
       "      <th>...</th>\n",
       "      <th>airtime</th>\n",
       "      <th>flights</th>\n",
       "      <th>distance</th>\n",
       "      <th>crsdeptime</th>\n",
       "      <th>crsarrtime</th>\n",
       "      <th>carrierdelay</th>\n",
       "      <th>weatherdelay</th>\n",
       "      <th>nasdelay</th>\n",
       "      <th>securitydelay</th>\n",
       "      <th>lateaircraftdelay</th>\n",
       "    </tr>\n",
       "  </thead>\n",
       "  <tbody>\n",
       "    <tr>\n",
       "      <th>0</th>\n",
       "      <td>2015</td>\n",
       "      <td>1</td>\n",
       "      <td>1</td>\n",
       "      <td>1</td>\n",
       "      <td>4</td>\n",
       "      <td>2015-01-01</td>\n",
       "      <td>AA</td>\n",
       "      <td>N001AA</td>\n",
       "      <td>1519</td>\n",
       "      <td>DFW</td>\n",
       "      <td>...</td>\n",
       "      <td>59.0</td>\n",
       "      <td>1</td>\n",
       "      <td>432.0</td>\n",
       "      <td>1345</td>\n",
       "      <td>1510</td>\n",
       "      <td>NaN</td>\n",
       "      <td>NaN</td>\n",
       "      <td>NaN</td>\n",
       "      <td>NaN</td>\n",
       "      <td>NaN</td>\n",
       "    </tr>\n",
       "    <tr>\n",
       "      <th>1</th>\n",
       "      <td>2015</td>\n",
       "      <td>1</td>\n",
       "      <td>1</td>\n",
       "      <td>1</td>\n",
       "      <td>4</td>\n",
       "      <td>2015-01-01</td>\n",
       "      <td>AA</td>\n",
       "      <td>N001AA</td>\n",
       "      <td>1519</td>\n",
       "      <td>MEM</td>\n",
       "      <td>...</td>\n",
       "      <td>77.0</td>\n",
       "      <td>1</td>\n",
       "      <td>432.0</td>\n",
       "      <td>1550</td>\n",
       "      <td>1730</td>\n",
       "      <td>NaN</td>\n",
       "      <td>NaN</td>\n",
       "      <td>NaN</td>\n",
       "      <td>NaN</td>\n",
       "      <td>NaN</td>\n",
       "    </tr>\n",
       "    <tr>\n",
       "      <th>2</th>\n",
       "      <td>2015</td>\n",
       "      <td>1</td>\n",
       "      <td>1</td>\n",
       "      <td>1</td>\n",
       "      <td>4</td>\n",
       "      <td>2015-01-01</td>\n",
       "      <td>AA</td>\n",
       "      <td>N002AA</td>\n",
       "      <td>2349</td>\n",
       "      <td>ORD</td>\n",
       "      <td>...</td>\n",
       "      <td>129.0</td>\n",
       "      <td>1</td>\n",
       "      <td>802.0</td>\n",
       "      <td>1845</td>\n",
       "      <td>2115</td>\n",
       "      <td>0.0</td>\n",
       "      <td>0.0</td>\n",
       "      <td>26.0</td>\n",
       "      <td>0.0</td>\n",
       "      <td>0.0</td>\n",
       "    </tr>\n",
       "    <tr>\n",
       "      <th>3</th>\n",
       "      <td>2015</td>\n",
       "      <td>1</td>\n",
       "      <td>1</td>\n",
       "      <td>1</td>\n",
       "      <td>4</td>\n",
       "      <td>2015-01-01</td>\n",
       "      <td>AA</td>\n",
       "      <td>N003AA</td>\n",
       "      <td>1298</td>\n",
       "      <td>DFW</td>\n",
       "      <td>...</td>\n",
       "      <td>93.0</td>\n",
       "      <td>1</td>\n",
       "      <td>731.0</td>\n",
       "      <td>1820</td>\n",
       "      <td>2120</td>\n",
       "      <td>19.0</td>\n",
       "      <td>0.0</td>\n",
       "      <td>12.0</td>\n",
       "      <td>0.0</td>\n",
       "      <td>81.0</td>\n",
       "    </tr>\n",
       "    <tr>\n",
       "      <th>4</th>\n",
       "      <td>2015</td>\n",
       "      <td>1</td>\n",
       "      <td>1</td>\n",
       "      <td>1</td>\n",
       "      <td>4</td>\n",
       "      <td>2015-01-01</td>\n",
       "      <td>AA</td>\n",
       "      <td>N003AA</td>\n",
       "      <td>1422</td>\n",
       "      <td>DFW</td>\n",
       "      <td>...</td>\n",
       "      <td>111.0</td>\n",
       "      <td>1</td>\n",
       "      <td>769.0</td>\n",
       "      <td>0800</td>\n",
       "      <td>0925</td>\n",
       "      <td>78.0</td>\n",
       "      <td>0.0</td>\n",
       "      <td>0.0</td>\n",
       "      <td>0.0</td>\n",
       "      <td>0.0</td>\n",
       "    </tr>\n",
       "    <tr>\n",
       "      <th>5</th>\n",
       "      <td>2015</td>\n",
       "      <td>1</td>\n",
       "      <td>1</td>\n",
       "      <td>1</td>\n",
       "      <td>4</td>\n",
       "      <td>2015-01-01</td>\n",
       "      <td>AA</td>\n",
       "      <td>N003AA</td>\n",
       "      <td>1422</td>\n",
       "      <td>HDN</td>\n",
       "      <td>...</td>\n",
       "      <td>108.0</td>\n",
       "      <td>1</td>\n",
       "      <td>769.0</td>\n",
       "      <td>1005</td>\n",
       "      <td>1320</td>\n",
       "      <td>254.0</td>\n",
       "      <td>0.0</td>\n",
       "      <td>4.0</td>\n",
       "      <td>0.0</td>\n",
       "      <td>78.0</td>\n",
       "    </tr>\n",
       "    <tr>\n",
       "      <th>6</th>\n",
       "      <td>2015</td>\n",
       "      <td>1</td>\n",
       "      <td>1</td>\n",
       "      <td>1</td>\n",
       "      <td>4</td>\n",
       "      <td>2015-01-01</td>\n",
       "      <td>AA</td>\n",
       "      <td>N004AA</td>\n",
       "      <td>2287</td>\n",
       "      <td>JAC</td>\n",
       "      <td>...</td>\n",
       "      <td>146.0</td>\n",
       "      <td>1</td>\n",
       "      <td>1047.0</td>\n",
       "      <td>0800</td>\n",
       "      <td>1200</td>\n",
       "      <td>0.0</td>\n",
       "      <td>0.0</td>\n",
       "      <td>21.0</td>\n",
       "      <td>0.0</td>\n",
       "      <td>0.0</td>\n",
       "    </tr>\n",
       "    <tr>\n",
       "      <th>7</th>\n",
       "      <td>2015</td>\n",
       "      <td>1</td>\n",
       "      <td>1</td>\n",
       "      <td>1</td>\n",
       "      <td>4</td>\n",
       "      <td>2015-01-01</td>\n",
       "      <td>AA</td>\n",
       "      <td>N005AA</td>\n",
       "      <td>1080</td>\n",
       "      <td>EGE</td>\n",
       "      <td>...</td>\n",
       "      <td>NaN</td>\n",
       "      <td>1</td>\n",
       "      <td>1007.0</td>\n",
       "      <td>1415</td>\n",
       "      <td>1755</td>\n",
       "      <td>NaN</td>\n",
       "      <td>NaN</td>\n",
       "      <td>NaN</td>\n",
       "      <td>NaN</td>\n",
       "      <td>NaN</td>\n",
       "    </tr>\n",
       "    <tr>\n",
       "      <th>8</th>\n",
       "      <td>2015</td>\n",
       "      <td>1</td>\n",
       "      <td>1</td>\n",
       "      <td>1</td>\n",
       "      <td>4</td>\n",
       "      <td>2015-01-01</td>\n",
       "      <td>AA</td>\n",
       "      <td>N005AA</td>\n",
       "      <td>1080</td>\n",
       "      <td>ORD</td>\n",
       "      <td>...</td>\n",
       "      <td>NaN</td>\n",
       "      <td>1</td>\n",
       "      <td>1007.0</td>\n",
       "      <td>1145</td>\n",
       "      <td>1335</td>\n",
       "      <td>NaN</td>\n",
       "      <td>NaN</td>\n",
       "      <td>NaN</td>\n",
       "      <td>NaN</td>\n",
       "      <td>NaN</td>\n",
       "    </tr>\n",
       "    <tr>\n",
       "      <th>9</th>\n",
       "      <td>2015</td>\n",
       "      <td>1</td>\n",
       "      <td>1</td>\n",
       "      <td>1</td>\n",
       "      <td>4</td>\n",
       "      <td>2015-01-01</td>\n",
       "      <td>AA</td>\n",
       "      <td>N005AA</td>\n",
       "      <td>2332</td>\n",
       "      <td>DFW</td>\n",
       "      <td>...</td>\n",
       "      <td>NaN</td>\n",
       "      <td>1</td>\n",
       "      <td>802.0</td>\n",
       "      <td>0740</td>\n",
       "      <td>0955</td>\n",
       "      <td>NaN</td>\n",
       "      <td>NaN</td>\n",
       "      <td>NaN</td>\n",
       "      <td>NaN</td>\n",
       "      <td>NaN</td>\n",
       "    </tr>\n",
       "    <tr>\n",
       "      <th>10</th>\n",
       "      <td>2015</td>\n",
       "      <td>1</td>\n",
       "      <td>1</td>\n",
       "      <td>1</td>\n",
       "      <td>4</td>\n",
       "      <td>2015-01-01</td>\n",
       "      <td>AA</td>\n",
       "      <td>N006AA</td>\n",
       "      <td>194</td>\n",
       "      <td>DFW</td>\n",
       "      <td>...</td>\n",
       "      <td>NaN</td>\n",
       "      <td>1</td>\n",
       "      <td>731.0</td>\n",
       "      <td>1150</td>\n",
       "      <td>1445</td>\n",
       "      <td>NaN</td>\n",
       "      <td>NaN</td>\n",
       "      <td>NaN</td>\n",
       "      <td>NaN</td>\n",
       "      <td>NaN</td>\n",
       "    </tr>\n",
       "  </tbody>\n",
       "</table>\n",
       "<p>11 rows × 38 columns</p>\n",
       "</div>"
      ],
      "text/plain": [
       "    year quarter month dayofmonth dayofweek  flightdate carrier tailnum  \\\n",
       "0   2015       1     1          1         4  2015-01-01      AA  N001AA   \n",
       "1   2015       1     1          1         4  2015-01-01      AA  N001AA   \n",
       "2   2015       1     1          1         4  2015-01-01      AA  N002AA   \n",
       "3   2015       1     1          1         4  2015-01-01      AA  N003AA   \n",
       "4   2015       1     1          1         4  2015-01-01      AA  N003AA   \n",
       "5   2015       1     1          1         4  2015-01-01      AA  N003AA   \n",
       "6   2015       1     1          1         4  2015-01-01      AA  N004AA   \n",
       "7   2015       1     1          1         4  2015-01-01      AA  N005AA   \n",
       "8   2015       1     1          1         4  2015-01-01      AA  N005AA   \n",
       "9   2015       1     1          1         4  2015-01-01      AA  N005AA   \n",
       "10  2015       1     1          1         4  2015-01-01      AA  N006AA   \n",
       "\n",
       "   flightnum origin  ... airtime flights distance crsdeptime crsarrtime  \\\n",
       "0       1519    DFW  ...    59.0       1    432.0       1345       1510   \n",
       "1       1519    MEM  ...    77.0       1    432.0       1550       1730   \n",
       "2       2349    ORD  ...   129.0       1    802.0       1845       2115   \n",
       "3       1298    DFW  ...    93.0       1    731.0       1820       2120   \n",
       "4       1422    DFW  ...   111.0       1    769.0       0800       0925   \n",
       "5       1422    HDN  ...   108.0       1    769.0       1005       1320   \n",
       "6       2287    JAC  ...   146.0       1   1047.0       0800       1200   \n",
       "7       1080    EGE  ...     NaN       1   1007.0       1415       1755   \n",
       "8       1080    ORD  ...     NaN       1   1007.0       1145       1335   \n",
       "9       2332    DFW  ...     NaN       1    802.0       0740       0955   \n",
       "10       194    DFW  ...     NaN       1    731.0       1150       1445   \n",
       "\n",
       "   carrierdelay  weatherdelay  nasdelay  securitydelay  lateaircraftdelay  \n",
       "0           NaN           NaN       NaN            NaN                NaN  \n",
       "1           NaN           NaN       NaN            NaN                NaN  \n",
       "2           0.0           0.0      26.0            0.0                0.0  \n",
       "3          19.0           0.0      12.0            0.0               81.0  \n",
       "4          78.0           0.0       0.0            0.0                0.0  \n",
       "5         254.0           0.0       4.0            0.0               78.0  \n",
       "6           0.0           0.0      21.0            0.0                0.0  \n",
       "7           NaN           NaN       NaN            NaN                NaN  \n",
       "8           NaN           NaN       NaN            NaN                NaN  \n",
       "9           NaN           NaN       NaN            NaN                NaN  \n",
       "10          NaN           NaN       NaN            NaN                NaN  \n",
       "\n",
       "[11 rows x 38 columns]"
      ]
     },
     "execution_count": 2,
     "metadata": {},
     "output_type": "execute_result"
    }
   ],
   "source": [
    "on_time_dataframe.limit(15).toPandas()"
   ]
  }
 ],
 "metadata": {
  "kernelspec": {
   "display_name": "Python 3",
   "language": "python",
   "name": "python3"
  },
  "language_info": {
   "codemirror_mode": {
    "name": "ipython",
    "version": 3
   },
   "file_extension": ".py",
   "mimetype": "text/x-python",
   "name": "python",
   "nbconvert_exporter": "python",
   "pygments_lexer": "ipython3",
   "version": "3.6.8"
  },
  "varInspector": {
   "cols": {
    "lenName": 16,
    "lenType": 16,
    "lenVar": 40
   },
   "kernels_config": {
    "python": {
     "delete_cmd_postfix": "",
     "delete_cmd_prefix": "del ",
     "library": "var_list.py",
     "varRefreshCmd": "print(var_dic_list())"
    },
    "r": {
     "delete_cmd_postfix": ") ",
     "delete_cmd_prefix": "rm(",
     "library": "var_list.r",
     "varRefreshCmd": "cat(var_dic_list()) "
    }
   },
   "types_to_exclude": [
    "module",
    "function",
    "builtin_function_or_method",
    "instance",
    "_Feature"
   ],
   "window_display": false
  }
 },
 "nbformat": 4,
 "nbformat_minor": 2
}
